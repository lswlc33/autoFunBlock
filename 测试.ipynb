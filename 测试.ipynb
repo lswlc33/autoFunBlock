{
 "cells": [
  {
   "cell_type": "markdown",
   "metadata": {},
   "source": [
    "### 大逃杀连续击杀记录"
   ]
  },
  {
   "cell_type": "code",
   "execution_count": null,
   "metadata": {
    "vscode": {
     "languageId": "plaintext"
    }
   },
   "outputs": [],
   "source": [
    "import pandas as pd\n",
    "\n",
    "df = pd.read_csv(\"data/escape.csv\")\n",
    "击杀房间 = df[\"击杀房间\"]\n",
    "上局击杀房间 = df[\"上局击杀房间\"]\n",
    "\n",
    "count = 0\n",
    "times = [0] * 7\n",
    "for i in range(len(df)):\n",
    "    if 上局击杀房间[i] == 击杀房间[i]:\n",
    "        count += 1\n",
    "    else:\n",
    "        times[count] += 1\n",
    "        count = 0\n",
    "\n",
    "for i in range(len(times)):\n",
    "    print(f\"连续 {i+1} 次: {times[i]}\")"
   ]
  },
  {
   "cell_type": "markdown",
   "metadata": {},
   "source": [
    "### 宝石变化趋势"
   ]
  },
  {
   "cell_type": "code",
   "execution_count": null,
   "metadata": {
    "vscode": {
     "languageId": "plaintext"
    }
   },
   "outputs": [],
   "source": [
    "import matplotlib.pyplot as plt\n",
    "import matplotlib.dates as mdates\n",
    "import pandas as pd\n",
    "\n",
    "df = pd.read_csv(\"data/escape.csv\")\n",
    "df[\"时间\"] = pd.to_datetime(df[\"时间\"])\n",
    "宝石 = df[\"我的宝石\"]\n",
    "时间 = df[\"时间\"]\n",
    "\n",
    "fig, ax = plt.subplots()\n",
    "ax.plot(时间, 宝石)\n",
    "\n",
    "ax.xaxis.set_major_locator(mdates.DayLocator())\n",
    "ax.xaxis.set_minor_locator(mdates.HourLocator())\n",
    "ax.xaxis.set_major_formatter(mdates.DateFormatter(\"%m-%d\"))\n",
    "\n",
    "plt.show()"
   ]
  }
 ],
 "metadata": {
  "language_info": {
   "name": "python"
  }
 },
 "nbformat": 4,
 "nbformat_minor": 2
}

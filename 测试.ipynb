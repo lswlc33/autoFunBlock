{
 "cells": [
  {
   "cell_type": "markdown",
   "metadata": {},
   "source": [
    "## 大逃亡参与统计"
   ]
  },
  {
   "cell_type": "code",
   "execution_count": 19,
   "metadata": {},
   "outputs": [
    {
     "name": "stdout",
     "output_type": "stream",
     "text": [
      "{'message': 'OK'}\n"
     ]
    }
   ],
   "source": [
    "from lib.乌龟 import 召回显示乌龟\n",
    "\n",
    "\n",
    "召回显示乌龟(0,21445)"
   ]
  },
  {
   "cell_type": "code",
   "execution_count": 5,
   "metadata": {},
   "outputs": [
    {
     "name": "stdout",
     "output_type": "stream",
     "text": [
      "近 2000 场数据\n",
      "胜场: 55 败场: 12 胜率: 82.1% \n",
      "投入: 6.6 赚的: 7.47 利润: 0.87 \n"
     ]
    }
   ],
   "source": [
    "import pandas as pd\n",
    "from lib.大逃杀计算 import get_win_stat, get_m_stat\n",
    "\n",
    "num = 2000\n",
    "win, lose, win_rate = get_win_stat(num)\n",
    "paid_m, win_m, total_m = get_m_stat(num)\n",
    "\n",
    "print(f\"近 {num} 场数据\")\n",
    "print(f\"胜场: {win} 败场: {lose} 胜率: {win_rate} \")\n",
    "print(f\"投入: {paid_m} 赚的: {win_m} 利润: {total_m} \")"
   ]
  },
  {
   "cell_type": "markdown",
   "metadata": {},
   "source": [
    "## 宝石变化趋势"
   ]
  },
  {
   "cell_type": "code",
   "execution_count": 6,
   "metadata": {},
   "outputs": [
    {
     "data": {
      "image/png": "[encoded data removed]",
      "text/plain": [
       "<Figure size 640x480 with 1 Axes>"
      ]
     },
     "metadata": {},
     "output_type": "display_data"
    }
   ],
   "source": [
    "import matplotlib.pyplot as plt\n",
    "import matplotlib.dates as mdates\n",
    "import pandas as pd\n",
    "\n",
    "df = pd.read_csv(\"data/escape.csv\")\n",
    "df['时间'] = pd.to_datetime(df['时间'])\n",
    "宝石 = df['我的宝石']\n",
    "时间 = df['时间']\n",
    "\n",
    "fig, ax = plt.subplots()\n",
    "ax.plot(时间, 宝石)\n",
    "\n",
    "ax.xaxis.set_major_locator(mdates.DayLocator())\n",
    "ax.xaxis.set_minor_locator(mdates.HourLocator())\n",
    "ax.xaxis.set_major_formatter(mdates.DateFormatter('%m-%d'))\n",
    "\n",
    "plt.show()"
   ]
  }
 ],
 "metadata": {
  "kernelspec": {
   "display_name": "Python 3",
   "language": "python",
   "name": "python3"
  },
  "language_info": {
   "codemirror_mode": {
    "name": "ipython",
    "version": 3
   },
   "file_extension": ".py",
   "mimetype": "text/x-python",
   "name": "python",
   "nbconvert_exporter": "python",
   "pygments_lexer": "ipython3",
   "version": "3.7.5"
  }
 },
 "nbformat": 4,
 "nbformat_minor": 2
}

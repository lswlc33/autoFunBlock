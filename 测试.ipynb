{
 "cells": [
  {
   "cell_type": "markdown",
   "metadata": {},
   "source": [
    "### 大逃杀连续击杀记录"
   ]
  },
  {
   "cell_type": "code",
   "execution_count": null,
   "metadata": {},
   "outputs": [],
   "source": [
    "import pandas as pd\n",
    "\n",
    "df = pd.read_csv(\"data/escape.csv\")\n",
    "击杀房间 = df[\"击杀房间\"]\n",
    "上局击杀房间 = df[\"上局击杀房间\"]\n",
    "last_kill_room = df[\"last_kill_room\"]\n",
    "\n",
    "count = 0\n",
    "times = [0] * 7\n",
    "for i in range(len(df)):\n",
    "    if 上局击杀房间[i] == 击杀房间[i]:\n",
    "        count += 1\n",
    "    else:\n",
    "        times[count] += 1\n",
    "        count = 0\n",
    "\n",
    "for i in range(len(times)):\n",
    "    print(f\"连续 {i+1} 次: {times[i]}\")"
   ]
  },
  {
   "cell_type": "code",
   "execution_count": null,
   "metadata": {},
   "outputs": [],
   "source": [
    "import pandas as pd\n",
    "\n",
    "df = pd.read_csv(\"data/escape.csv\")\n",
    "\n",
    "# 创建一个新列来表示连续击杀房间的次数\n",
    "df[\"连续击杀\"] = (df[\"击杀房间\"] == df[\"上局击杀房间\"]).astype(int)\n",
    "\n",
    "# 计算连续击杀的次数\n",
    "df[\"连续击杀\"] = df[\"连续击杀\"].cumsum()\n",
    "\n",
    "# 计算每个连续击杀次数的频率\n",
    "times = df[\"连续击杀\"].value_counts().sort_index()\n",
    "\n",
    "# 打印结果\n",
    "for i, time in times.items():\n",
    "    print(f\"连续 {i+1} 次: {time}\")"
   ]
  },
  {
   "cell_type": "markdown",
   "metadata": {},
   "source": [
    "### 宝石变化趋势"
   ]
  },
  {
   "cell_type": "code",
   "execution_count": null,
   "metadata": {},
   "outputs": [],
   "source": [
    "import matplotlib.pyplot as plt\n",
    "import matplotlib.dates as mdates\n",
    "import pandas as pd\n",
    "\n",
    "df = pd.read_csv(\"data/escape.csv\")\n",
    "df[\"时间\"] = pd.to_datetime(df[\"时间\"])\n",
    "宝石 = df[\"我的宝石\"]\n",
    "时间 = df[\"时间\"]\n",
    "\n",
    "fig, ax = plt.subplots()\n",
    "ax.plot(时间, 宝石)\n",
    "\n",
    "ax.xaxis.set_major_locator(mdates.DayLocator())\n",
    "ax.xaxis.set_minor_locator(mdates.HourLocator())\n",
    "ax.xaxis.set_major_formatter(mdates.DateFormatter(\"%m-%d\"))\n",
    "\n",
    "plt.show()"
   ]
  }
 ],
 "metadata": {
  "kernelspec": {
   "display_name": "Python 3",
   "language": "python",
   "name": "python3"
  },
  "language_info": {
   "name": "python",
   "version": "3.12.3"
  }
 },
 "nbformat": 4,
 "nbformat_minor": 2
}
